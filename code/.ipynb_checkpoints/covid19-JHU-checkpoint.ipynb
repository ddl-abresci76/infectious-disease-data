{
 "cells": [
  {
   "cell_type": "markdown",
   "metadata": {},
   "source": [
    "# Data Processing Code for COVID-19 JHU Data"
   ]
  },
  {
   "cell_type": "code",
   "execution_count": 202,
   "metadata": {},
   "outputs": [],
   "source": [
    "import pandas as pd\n",
    "import numpy as np\n",
    "import matplotlib.pyplot as plt\n",
    "from datetime import datetime\n",
    "%matplotlib inline"
   ]
  },
  {
   "cell_type": "markdown",
   "metadata": {},
   "source": [
    "#### Overwrite existing data."
   ]
  },
  {
   "cell_type": "markdown",
   "metadata": {},
   "source": [
    "JHU data in this repository is updated daily."
   ]
  },
  {
   "cell_type": "code",
   "execution_count": 203,
   "metadata": {},
   "outputs": [],
   "source": [
    "!sudo rm -r ../data/raw/covid19-JHU/"
   ]
  },
  {
   "cell_type": "code",
   "execution_count": 204,
   "metadata": {},
   "outputs": [
    {
     "name": "stdout",
     "output_type": "stream",
     "text": [
      "Cloning into '../data/raw/covid19-JHU'...\n",
      "remote: Enumerating objects: 13, done.\u001b[K\n",
      "remote: Counting objects: 100% (13/13), done.\u001b[K\n",
      "remote: Compressing objects: 100% (9/9), done.\u001b[K\n",
      "remote: Total 16480 (delta 4), reused 9 (delta 4), pack-reused 16467\u001b[K\n",
      "Receiving objects: 100% (16480/16480), 64.34 MiB | 42.47 MiB/s, done.\n",
      "Resolving deltas: 100% (8165/8165), done.\n"
     ]
    }
   ],
   "source": [
    "!git clone https://github.com/CSSEGISandData/COVID-19.git ../data/raw/covid19-JHU"
   ]
  },
  {
   "cell_type": "markdown",
   "metadata": {},
   "source": [
    "#### Load into a df"
   ]
  },
  {
   "cell_type": "markdown",
   "metadata": {},
   "source": [
    "Input and output file locations"
   ]
  },
  {
   "cell_type": "code",
   "execution_count": 205,
   "metadata": {},
   "outputs": [],
   "source": [
    "mypath = '../data/raw/covid19-JHU/csse_covid_19_data/csse_covid_19_daily_reports/'\n",
    "population_data = '../data/raw/population/populations.csv'\n",
    "covid19_out = '../data/processed/covid19-JHU/covid19-JHU.csv'"
   ]
  },
  {
   "cell_type": "code",
   "execution_count": 206,
   "metadata": {},
   "outputs": [],
   "source": [
    "from os import listdir\n",
    "from os.path import isfile, join\n",
    "onlyfiles = [f for f in listdir(mypath) if isfile(join(mypath, f)) and f != 'README.md' and f != '.gitignore']\n",
    "onlyfiles.sort()"
   ]
  },
  {
   "cell_type": "markdown",
   "metadata": {},
   "source": [
    "check start and end file names"
   ]
  },
  {
   "cell_type": "code",
   "execution_count": 207,
   "metadata": {},
   "outputs": [
    {
     "name": "stdout",
     "output_type": "stream",
     "text": [
      "01-22-2020.csv 03-26-2020.csv\n"
     ]
    }
   ],
   "source": [
    "print(onlyfiles[0], onlyfiles[-1])"
   ]
  },
  {
   "cell_type": "code",
   "execution_count": 208,
   "metadata": {},
   "outputs": [
    {
     "name": "stdout",
     "output_type": "stream",
     "text": [
      "01-22-2020.csv  loaded\n",
      "01-23-2020.csv  loaded\n",
      "01-24-2020.csv  loaded\n",
      "01-25-2020.csv  loaded\n",
      "01-26-2020.csv  loaded\n",
      "01-27-2020.csv  loaded\n",
      "01-28-2020.csv  loaded\n",
      "01-29-2020.csv  loaded\n",
      "01-30-2020.csv  loaded\n",
      "01-31-2020.csv  loaded\n",
      "02-01-2020.csv  loaded\n",
      "02-02-2020.csv  loaded\n",
      "02-03-2020.csv  loaded\n",
      "02-04-2020.csv  loaded\n",
      "02-05-2020.csv  loaded\n",
      "02-06-2020.csv  loaded\n",
      "02-07-2020.csv  loaded\n",
      "02-08-2020.csv  loaded\n",
      "02-09-2020.csv  loaded\n",
      "02-10-2020.csv  loaded\n",
      "02-11-2020.csv  loaded\n",
      "02-12-2020.csv  loaded\n",
      "02-13-2020.csv  loaded\n",
      "02-14-2020.csv  loaded\n",
      "02-15-2020.csv  loaded\n",
      "02-16-2020.csv  loaded\n",
      "02-17-2020.csv  loaded\n",
      "02-18-2020.csv  loaded\n",
      "02-19-2020.csv  loaded\n",
      "02-20-2020.csv  loaded\n",
      "02-21-2020.csv  loaded\n",
      "02-22-2020.csv  loaded\n",
      "02-23-2020.csv  loaded\n",
      "02-24-2020.csv  loaded\n",
      "02-25-2020.csv  loaded\n",
      "02-26-2020.csv  loaded\n",
      "02-27-2020.csv  loaded\n",
      "02-28-2020.csv  loaded\n",
      "02-29-2020.csv  loaded\n",
      "03-01-2020.csv  loaded\n",
      "03-02-2020.csv  loaded\n",
      "03-03-2020.csv  loaded\n",
      "03-04-2020.csv  loaded\n",
      "03-05-2020.csv  loaded\n",
      "03-06-2020.csv  loaded\n",
      "03-07-2020.csv  loaded\n",
      "03-08-2020.csv  loaded\n",
      "03-09-2020.csv  loaded\n",
      "03-10-2020.csv  loaded\n",
      "03-11-2020.csv  loaded\n",
      "03-12-2020.csv  loaded\n",
      "03-13-2020.csv  loaded\n",
      "03-14-2020.csv  loaded\n",
      "03-15-2020.csv  loaded\n",
      "03-16-2020.csv  loaded\n",
      "03-17-2020.csv  loaded\n",
      "03-18-2020.csv  loaded\n",
      "03-19-2020.csv  loaded\n",
      "03-20-2020.csv  loaded\n",
      "03-21-2020.csv  loaded\n",
      "03-22-2020.csv  loaded\n",
      "03-23-2020.csv  loaded\n",
      "03-24-2020.csv  loaded\n",
      "03-25-2020.csv  loaded\n",
      "03-26-2020.csv  loaded\n"
     ]
    }
   ],
   "source": [
    "i = 0\n",
    "for f in onlyfiles:\n",
    "    # data format changed on 3-23\n",
    "    if datetime.strptime(f[:-4] , '%m-%d-%Y') < datetime.strptime('03-22-2020', '%m-%d-%Y'):\n",
    "        df = pd.read_csv(mypath + f)\n",
    "        df = df[['Province/State', 'Country/Region', 'Last Update', 'Confirmed', 'Deaths', 'Recovered']]\n",
    "        df = df.groupby(['Country/Region']).sum()\n",
    "        df['Date'] = f[:-4]\n",
    "        if i == 0:\n",
    "            dfs = df\n",
    "        if i > 0:\n",
    "            dfs = pd.concat([dfs, df])\n",
    "        i += 1\n",
    "    else:\n",
    "        df = pd.read_csv(mypath + f)\n",
    "        df = df[['Province_State', 'Country_Region', 'Last_Update', 'Confirmed', 'Deaths', 'Recovered']]\n",
    "        df.columns = ['Province/State', 'Country/Region', 'Last Update', 'Confirmed', 'Deaths', 'Recovered']\n",
    "        df = df.groupby(['Country/Region']).sum()\n",
    "        df['Date'] = f[:-4]\n",
    "        if i == 0:\n",
    "            dfs = df\n",
    "        if i > 0:\n",
    "            dfs = pd.concat([dfs, df])\n",
    "        i += 1\n",
    "    print(f, ' loaded')"
   ]
  },
  {
   "cell_type": "markdown",
   "metadata": {},
   "source": [
    "#### Modify country names"
   ]
  },
  {
   "cell_type": "markdown",
   "metadata": {},
   "source": [
    "Some of the country names are reported differently in different JHU files.\n",
    "\n",
    "Regional distinctions are merged under one unifying country name.\n",
    "\n",
    "Some names are altered to merge with the population data.\n",
    "\n",
    "This may need to be altered over time if JHU country names change again in future files."
   ]
  },
  {
   "cell_type": "code",
   "execution_count": 209,
   "metadata": {},
   "outputs": [],
   "source": [
    "names = dfs.index.tolist()\n",
    "names = [x.strip() for x in names]\n",
    "changelist = [i for i, value in enumerate(names) if value == 'Mainland China']\n",
    "for c in changelist: names[c] = 'China'\n",
    "changelist = [i for i, value in enumerate(names) if value == 'Republic of Korea']\n",
    "for c in changelist: names[c] = 'South Korea'\n",
    "changelist = [i for i, value in enumerate(names) if value == 'Korea, South']\n",
    "for c in changelist: names[c] = 'South Korea'\n",
    "changelist = [i for i, value in enumerate(names) if value == 'Iran (Islamic Republic of)']\n",
    "for c in changelist: names[c] = 'Iran'\n",
    "changelist = [i for i, value in enumerate(names) if value == 'Iran (Islamic Republic of)']\n",
    "for c in changelist: names[c] = 'Iran'\n",
    "changelist = [i for i, value in enumerate(names) if value == 'occupied Palestinian territory']\n",
    "for c in changelist: names[c] = 'Israel'\n",
    "changelist = [i for i, value in enumerate(names) if value == 'United Kingdom']\n",
    "for c in changelist: names[c] = 'UK'\n",
    "changelist = [i for i, value in enumerate(names) if value == 'Hong Kong SAR']\n",
    "for c in changelist: names[c] = 'Hong Kong'\n",
    "changelist = [i for i, value in enumerate(names) if value == 'Taipei and environs']\n",
    "for c in changelist: names[c] = 'Taiwan'\n",
    "changelist = [i for i, value in enumerate(names) if value == 'Taiwan*']\n",
    "for c in changelist: names[c] = 'Taiwan'\n",
    "changelist = [i for i, value in enumerate(names) if value == 'Republic of Ireland']\n",
    "for c in changelist: names[c] = 'Ireland'\n",
    "changelist = [i for i, value in enumerate(names) if value == 'Czechia']\n",
    "for c in changelist: names[c] = 'Czech Republic'\n",
    "changelist = [i for i, value in enumerate(names) if value == 'Macau']\n",
    "for c in changelist: names[c] = 'Macao'\n",
    "changelist = [i for i, value in enumerate(names) if value == 'Macao SAR']\n",
    "for c in changelist: names[c] = 'Macao'\n",
    "changelist = [i for i, value in enumerate(names) if value == 'Republic of Moldova']\n",
    "for c in changelist: names[c] = 'Moldova'\n",
    "changelist = [i for i, value in enumerate(names) if value == 'Cote d\\'Ivoire']\n",
    "for c in changelist: names[c] = 'Ivory Coast'\n",
    "changelist = [i for i, value in enumerate(names) if value == 'Viet Nam']\n",
    "for c in changelist: names[c] = 'Vietnam'\n",
    "changelist = [i for i, value in enumerate(names) if value == 'Russian Federation']\n",
    "for c in changelist: names[c] = 'Russia'\n",
    "changelist = [i for i, value in enumerate(names) if value == 'Congo (Kinshasa)']\n",
    "for c in changelist: names[c] = 'Congo'\n",
    "changelist = [i for i, value in enumerate(names) if value == 'DR Congo']\n",
    "for c in changelist: names[c] = 'Congo'\n",
    "changelist = [i for i, value in enumerate(names) if value == 'North Ireland']\n",
    "for c in changelist: names[c] = 'Ireland'\n",
    "changelist = [i for i, value in enumerate(names) if value == 'St. Martin']\n",
    "for c in changelist: names[c] = 'Saint Martin'\n",
    "dfs.index = names\n",
    "dfs.index.rename('Country', inplace=True)\n",
    "dfs['Date'] = pd.to_datetime(dfs['Date'])"
   ]
  },
  {
   "cell_type": "markdown",
   "metadata": {},
   "source": [
    "#### Merge with the population data"
   ]
  },
  {
   "cell_type": "code",
   "execution_count": 210,
   "metadata": {},
   "outputs": [
    {
     "data": {
      "text/html": [
       "<div>\n",
       "<style scoped>\n",
       "    .dataframe tbody tr th:only-of-type {\n",
       "        vertical-align: middle;\n",
       "    }\n",
       "\n",
       "    .dataframe tbody tr th {\n",
       "        vertical-align: top;\n",
       "    }\n",
       "\n",
       "    .dataframe thead th {\n",
       "        text-align: right;\n",
       "    }\n",
       "</style>\n",
       "<table border=\"1\" class=\"dataframe\">\n",
       "  <thead>\n",
       "    <tr style=\"text-align: right;\">\n",
       "      <th></th>\n",
       "      <th>Population</th>\n",
       "    </tr>\n",
       "    <tr>\n",
       "      <th>Country</th>\n",
       "      <th></th>\n",
       "    </tr>\n",
       "  </thead>\n",
       "  <tbody>\n",
       "    <tr>\n",
       "      <th>China</th>\n",
       "      <td>1439323776</td>\n",
       "    </tr>\n",
       "    <tr>\n",
       "      <th>India</th>\n",
       "      <td>1380004385</td>\n",
       "    </tr>\n",
       "    <tr>\n",
       "      <th>US</th>\n",
       "      <td>331002651</td>\n",
       "    </tr>\n",
       "    <tr>\n",
       "      <th>Indonesia</th>\n",
       "      <td>273523615</td>\n",
       "    </tr>\n",
       "    <tr>\n",
       "      <th>Pakistan</th>\n",
       "      <td>220892340</td>\n",
       "    </tr>\n",
       "  </tbody>\n",
       "</table>\n",
       "</div>"
      ],
      "text/plain": [
       "           Population\n",
       "Country              \n",
       "China      1439323776\n",
       "India      1380004385\n",
       "US          331002651\n",
       "Indonesia   273523615\n",
       "Pakistan    220892340"
      ]
     },
     "execution_count": 210,
     "metadata": {},
     "output_type": "execute_result"
    }
   ],
   "source": [
    "dfp = pd.read_csv(population_data)\n",
    "dfp.index = dfp.Country.values\n",
    "dfp.drop(['Country'], axis=1, inplace=True)\n",
    "dfp.index.rename('Country', inplace=True)\n",
    "dfp.head()"
   ]
  },
  {
   "cell_type": "code",
   "execution_count": 211,
   "metadata": {},
   "outputs": [],
   "source": [
    "dfsj = dfs.join(dfp, how='outer')\n",
    "dfsj['Population'] = pd.to_numeric(dfsj['Population'])"
   ]
  },
  {
   "cell_type": "markdown",
   "metadata": {},
   "source": [
    "#### ***IMPORTANT ERROR CHECK STEP***"
   ]
  },
  {
   "cell_type": "markdown",
   "metadata": {},
   "source": [
    "Important error check step to see if JHU country names have changed in recent files and to see which JHU reporting regions have been left out of the final analysis. Sometimes new countries will show up in the list as well. As needed, the names of these countries will need to be modified above in order to merge properly."
   ]
  },
  {
   "cell_type": "code",
   "execution_count": 212,
   "metadata": {},
   "outputs": [
    {
     "data": {
      "text/html": [
       "<div>\n",
       "<style scoped>\n",
       "    .dataframe tbody tr th:only-of-type {\n",
       "        vertical-align: middle;\n",
       "    }\n",
       "\n",
       "    .dataframe tbody tr th {\n",
       "        vertical-align: top;\n",
       "    }\n",
       "\n",
       "    .dataframe thead th {\n",
       "        text-align: right;\n",
       "    }\n",
       "</style>\n",
       "<table border=\"1\" class=\"dataframe\">\n",
       "  <thead>\n",
       "    <tr style=\"text-align: right;\">\n",
       "      <th></th>\n",
       "      <th>Confirmed</th>\n",
       "      <th>Deaths</th>\n",
       "      <th>Recovered</th>\n",
       "      <th>Date</th>\n",
       "      <th>Population</th>\n",
       "    </tr>\n",
       "    <tr>\n",
       "      <th>Country</th>\n",
       "      <th></th>\n",
       "      <th></th>\n",
       "      <th></th>\n",
       "      <th></th>\n",
       "      <th></th>\n",
       "    </tr>\n",
       "  </thead>\n",
       "  <tbody>\n",
       "    <tr>\n",
       "      <th>Cruise Ship</th>\n",
       "      <td>712.0</td>\n",
       "      <td>8.0</td>\n",
       "      <td>567.0</td>\n",
       "      <td>2020-03-23</td>\n",
       "      <td>NaN</td>\n",
       "    </tr>\n",
       "    <tr>\n",
       "      <th>Diamond Princess</th>\n",
       "      <td>712.0</td>\n",
       "      <td>10.0</td>\n",
       "      <td>597.0</td>\n",
       "      <td>2020-03-26</td>\n",
       "      <td>NaN</td>\n",
       "    </tr>\n",
       "    <tr>\n",
       "      <th>Others</th>\n",
       "      <td>706.0</td>\n",
       "      <td>6.0</td>\n",
       "      <td>40.0</td>\n",
       "      <td>2020-03-10</td>\n",
       "      <td>NaN</td>\n",
       "    </tr>\n",
       "    <tr>\n",
       "      <th>West Bank and Gaza</th>\n",
       "      <td>84.0</td>\n",
       "      <td>1.0</td>\n",
       "      <td>17.0</td>\n",
       "      <td>2020-03-26</td>\n",
       "      <td>NaN</td>\n",
       "    </tr>\n",
       "    <tr>\n",
       "      <th>Kosovo</th>\n",
       "      <td>71.0</td>\n",
       "      <td>1.0</td>\n",
       "      <td>0.0</td>\n",
       "      <td>2020-03-26</td>\n",
       "      <td>NaN</td>\n",
       "    </tr>\n",
       "    <tr>\n",
       "      <th>Reunion</th>\n",
       "      <td>45.0</td>\n",
       "      <td>0.0</td>\n",
       "      <td>0.0</td>\n",
       "      <td>2020-03-21</td>\n",
       "      <td>NaN</td>\n",
       "    </tr>\n",
       "    <tr>\n",
       "      <th>Bahamas, The</th>\n",
       "      <td>4.0</td>\n",
       "      <td>0.0</td>\n",
       "      <td>0.0</td>\n",
       "      <td>2020-03-21</td>\n",
       "      <td>NaN</td>\n",
       "    </tr>\n",
       "    <tr>\n",
       "      <th>Congo (Brazzaville)</th>\n",
       "      <td>4.0</td>\n",
       "      <td>0.0</td>\n",
       "      <td>0.0</td>\n",
       "      <td>2020-03-26</td>\n",
       "      <td>NaN</td>\n",
       "    </tr>\n",
       "    <tr>\n",
       "      <th>Faroe Islands</th>\n",
       "      <td>2.0</td>\n",
       "      <td>0.0</td>\n",
       "      <td>0.0</td>\n",
       "      <td>2020-03-10</td>\n",
       "      <td>NaN</td>\n",
       "    </tr>\n",
       "    <tr>\n",
       "      <th>Saint Kitts and Nevis</th>\n",
       "      <td>2.0</td>\n",
       "      <td>0.0</td>\n",
       "      <td>0.0</td>\n",
       "      <td>2020-03-26</td>\n",
       "      <td>NaN</td>\n",
       "    </tr>\n",
       "    <tr>\n",
       "      <th>Jersey</th>\n",
       "      <td>2.0</td>\n",
       "      <td>0.0</td>\n",
       "      <td>0.0</td>\n",
       "      <td>2020-03-21</td>\n",
       "      <td>NaN</td>\n",
       "    </tr>\n",
       "    <tr>\n",
       "      <th>Gambia, The</th>\n",
       "      <td>1.0</td>\n",
       "      <td>0.0</td>\n",
       "      <td>0.0</td>\n",
       "      <td>2020-03-21</td>\n",
       "      <td>NaN</td>\n",
       "    </tr>\n",
       "    <tr>\n",
       "      <th>Guernsey</th>\n",
       "      <td>1.0</td>\n",
       "      <td>0.0</td>\n",
       "      <td>0.0</td>\n",
       "      <td>2020-03-21</td>\n",
       "      <td>NaN</td>\n",
       "    </tr>\n",
       "    <tr>\n",
       "      <th>Cape Verde</th>\n",
       "      <td>1.0</td>\n",
       "      <td>0.0</td>\n",
       "      <td>0.0</td>\n",
       "      <td>2020-03-21</td>\n",
       "      <td>NaN</td>\n",
       "    </tr>\n",
       "    <tr>\n",
       "      <th>East Timor</th>\n",
       "      <td>1.0</td>\n",
       "      <td>0.0</td>\n",
       "      <td>0.0</td>\n",
       "      <td>2020-03-21</td>\n",
       "      <td>NaN</td>\n",
       "    </tr>\n",
       "    <tr>\n",
       "      <th>Curacao</th>\n",
       "      <td>1.0</td>\n",
       "      <td>0.0</td>\n",
       "      <td>0.0</td>\n",
       "      <td>2020-03-15</td>\n",
       "      <td>NaN</td>\n",
       "    </tr>\n",
       "    <tr>\n",
       "      <th>Republic of the Congo</th>\n",
       "      <td>1.0</td>\n",
       "      <td>0.0</td>\n",
       "      <td>0.0</td>\n",
       "      <td>2020-03-21</td>\n",
       "      <td>NaN</td>\n",
       "    </tr>\n",
       "    <tr>\n",
       "      <th>Saint Vincent and the Grenadines</th>\n",
       "      <td>1.0</td>\n",
       "      <td>0.0</td>\n",
       "      <td>0.0</td>\n",
       "      <td>2020-03-26</td>\n",
       "      <td>NaN</td>\n",
       "    </tr>\n",
       "    <tr>\n",
       "      <th>The Bahamas</th>\n",
       "      <td>1.0</td>\n",
       "      <td>0.0</td>\n",
       "      <td>0.0</td>\n",
       "      <td>2020-03-21</td>\n",
       "      <td>NaN</td>\n",
       "    </tr>\n",
       "    <tr>\n",
       "      <th>The Gambia</th>\n",
       "      <td>1.0</td>\n",
       "      <td>0.0</td>\n",
       "      <td>0.0</td>\n",
       "      <td>2020-03-21</td>\n",
       "      <td>NaN</td>\n",
       "    </tr>\n",
       "    <tr>\n",
       "      <th>Vatican City</th>\n",
       "      <td>1.0</td>\n",
       "      <td>0.0</td>\n",
       "      <td>0.0</td>\n",
       "      <td>2020-03-09</td>\n",
       "      <td>NaN</td>\n",
       "    </tr>\n",
       "  </tbody>\n",
       "</table>\n",
       "</div>"
      ],
      "text/plain": [
       "                                  Confirmed  Deaths  Recovered       Date  \\\n",
       "Country                                                                     \n",
       "Cruise Ship                           712.0     8.0      567.0 2020-03-23   \n",
       "Diamond Princess                      712.0    10.0      597.0 2020-03-26   \n",
       "Others                                706.0     6.0       40.0 2020-03-10   \n",
       "West Bank and Gaza                     84.0     1.0       17.0 2020-03-26   \n",
       "Kosovo                                 71.0     1.0        0.0 2020-03-26   \n",
       "Reunion                                45.0     0.0        0.0 2020-03-21   \n",
       "Bahamas, The                            4.0     0.0        0.0 2020-03-21   \n",
       "Congo (Brazzaville)                     4.0     0.0        0.0 2020-03-26   \n",
       "Faroe Islands                           2.0     0.0        0.0 2020-03-10   \n",
       "Saint Kitts and Nevis                   2.0     0.0        0.0 2020-03-26   \n",
       "Jersey                                  2.0     0.0        0.0 2020-03-21   \n",
       "Gambia, The                             1.0     0.0        0.0 2020-03-21   \n",
       "Guernsey                                1.0     0.0        0.0 2020-03-21   \n",
       "Cape Verde                              1.0     0.0        0.0 2020-03-21   \n",
       "East Timor                              1.0     0.0        0.0 2020-03-21   \n",
       "Curacao                                 1.0     0.0        0.0 2020-03-15   \n",
       "Republic of the Congo                   1.0     0.0        0.0 2020-03-21   \n",
       "Saint Vincent and the Grenadines        1.0     0.0        0.0 2020-03-26   \n",
       "The Bahamas                             1.0     0.0        0.0 2020-03-21   \n",
       "The Gambia                              1.0     0.0        0.0 2020-03-21   \n",
       "Vatican City                            1.0     0.0        0.0 2020-03-09   \n",
       "\n",
       "                                  Population  \n",
       "Country                                       \n",
       "Cruise Ship                              NaN  \n",
       "Diamond Princess                         NaN  \n",
       "Others                                   NaN  \n",
       "West Bank and Gaza                       NaN  \n",
       "Kosovo                                   NaN  \n",
       "Reunion                                  NaN  \n",
       "Bahamas, The                             NaN  \n",
       "Congo (Brazzaville)                      NaN  \n",
       "Faroe Islands                            NaN  \n",
       "Saint Kitts and Nevis                    NaN  \n",
       "Jersey                                   NaN  \n",
       "Gambia, The                              NaN  \n",
       "Guernsey                                 NaN  \n",
       "Cape Verde                               NaN  \n",
       "East Timor                               NaN  \n",
       "Curacao                                  NaN  \n",
       "Republic of the Congo                    NaN  \n",
       "Saint Vincent and the Grenadines         NaN  \n",
       "The Bahamas                              NaN  \n",
       "The Gambia                               NaN  \n",
       "Vatican City                             NaN  "
      ]
     },
     "execution_count": 212,
     "metadata": {},
     "output_type": "execute_result"
    }
   ],
   "source": [
    "dfsj[dfsj.Population.isnull()].groupby('Country').max().sort_values('Confirmed', ascending=False)"
   ]
  },
  {
   "cell_type": "markdown",
   "metadata": {},
   "source": [
    "Drop those that don't merge properly"
   ]
  },
  {
   "cell_type": "code",
   "execution_count": 213,
   "metadata": {},
   "outputs": [],
   "source": [
    "dfsj.dropna(inplace=True)\n",
    "dfsj['PercPopConfirmed'] = 100* dfsj.Confirmed/dfsj.Population\n",
    "dfsj['PercPopDeaths'] = 100* dfsj.Deaths/dfsj.Population"
   ]
  },
  {
   "cell_type": "code",
   "execution_count": 214,
   "metadata": {},
   "outputs": [],
   "source": [
    "dfsj.to_csv(covid19_out)"
   ]
  }
 ],
 "metadata": {
  "kernelspec": {
   "display_name": "Python 3",
   "language": "python",
   "name": "python3"
  },
  "language_info": {
   "codemirror_mode": {
    "name": "ipython",
    "version": 3
   },
   "file_extension": ".py",
   "mimetype": "text/x-python",
   "name": "python",
   "nbconvert_exporter": "python",
   "pygments_lexer": "ipython3",
   "version": "3.6.7"
  }
 },
 "nbformat": 4,
 "nbformat_minor": 2
}
